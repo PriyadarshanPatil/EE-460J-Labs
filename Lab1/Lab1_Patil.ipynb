{
 "cells": [
  {
   "cell_type": "code",
   "execution_count": 2,
   "metadata": {},
   "outputs": [],
   "source": [
    "import pandas as pd\n",
    "import matplotlib.pyplot as plt\n",
    "import numpy as np\n",
    "#This block is just for importing relevant libraries"
   ]
  },
  {
   "cell_type": "markdown",
   "metadata": {},
   "source": [
    "# Q1 \n",
    "\n",
    "Create 1000 samples from a Gaussian distribution with mean -10 and standard deviation 5.\n",
    "Create another 1000 samples from another independent Gaussian with mean 10 and standard\n",
    "deviation 5.\n",
    "\n",
    "*(a) Take the sum of 2 these Gaussians by adding the two sets of 1000 points, point by point,\n",
    "and plot the histogram of the resulting 1000 points. What do you observe? *\n",
    "\n",
    "*(b) Estimate the mean and the variance of the sum. *"
   ]
  },
  {
   "cell_type": "code",
   "execution_count": 3,
   "metadata": {},
   "outputs": [
    {
     "name": "stdout",
     "output_type": "stream",
     "text": [
      "The mean of the sum of the two 1000 point draws is:  -0.09107435926181222  and the standard deviation is:  7.18292106290732\n"
     ]
    },
    {
     "data": {
      "image/png": "[encoded data removed]",
      "text/plain": [
       "<Figure size 432x288 with 1 Axes>"
      ]
     },
     "metadata": {
      "needs_background": "light"
     },
     "output_type": "display_data"
    }
   ],
   "source": [
    "mu1 = -10\n",
    "sigma1 = 5\n",
    "obs1 = np.random.normal(mu1, sigma1, 1000)\n",
    "\n",
    "mu2 = 10\n",
    "sigma2 = 5\n",
    "obs2 = np.random.normal(mu2, sigma2, 1000)\n",
    "\n",
    "obs3 = np.add(obs1, obs2)\n",
    "labels = ['Value', 'Number of observations']\n",
    "plt.hist(obs3,bins=25,label=labels)\n",
    "plt.xlabel('Draw value')\n",
    "plt.ylabel('Number of observations')\n",
    "\n",
    "obs3_mu = np.mean(obs3)\n",
    "\n",
    "obs3_sigma = np.std(obs3)\n",
    "\n",
    "print(\"The mean of the sum of the two 1000 point draws is: \",obs3_mu,\" and the standard deviation is: \",obs3_sigma)"
   ]
  },
  {
   "cell_type": "markdown",
   "metadata": {},
   "source": [
    "# Q2\n",
    "\n",
    "**Central Limit Theorem**\n",
    "Let Xi be an iid Bernoulli random variable with value {-1,1}. Look at the random variable Zn (stated in the problem description).\n",
    "\n",
    "*By taking 1000 draws from Zn, plot its histogram.*\n",
    "\n",
    "Check that for small n (say, 5-10) Zn does not look that much like a Gaussian, but when n is bigger (already by the time n = 30 or 50) it looks much more like a Gaussian. Check also for much bigger n: n = 250, to see that at this point, one can really see the bell curve."
   ]
  },
  {
   "cell_type": "code",
   "execution_count": 14,
   "metadata": {},
   "outputs": [
    {
     "data": {
      "image/png": "[encoded data removed]",
      "text/plain": [
       "<Figure size 432x288 with 4 Axes>"
      ]
     },
     "metadata": {
      "needs_background": "light"
     },
     "output_type": "display_data"
    }
   ],
   "source": [
    "def draw_Z(num_draws):\n",
    "    temp_array = np.random.binomial(size=num_draws, n=1, p= 0.5)\n",
    "    temp_array[temp_array == 0] = -1\n",
    "    Z = (np.sum(temp_array)/np.sqrt(num_draws))\n",
    "    return (Z)\n",
    "\n",
    "figure, axes = plt.subplots(nrows=2, ncols=2)\n",
    "\n",
    "num_draws=5\n",
    "int_array = np.zeros(1000)\n",
    "for i in range(1000):\n",
    "    int_array[i] = draw_Z(num_draws)\n",
    "#print(int_array)\n",
    "axes[0,0].hist(int_array, bins = 15)\n",
    "axes[0, 0].set_title('n=5')\n",
    "\n",
    "\n",
    "\n",
    "num_draws=30\n",
    "int_array = np.zeros(1000)\n",
    "for i in range(1000):\n",
    "    int_array[i] = draw_Z(num_draws)\n",
    "#print(int_array)\n",
    "axes[0,1].hist(int_array, bins = 15)\n",
    "axes[0,1].set_title('n=30')\n",
    "\n",
    "num_draws=50\n",
    "int_array = np.zeros(1000)\n",
    "for i in range(1000):\n",
    "    int_array[i] = draw_Z(num_draws)\n",
    "#print(int_array)\n",
    "axes[1,0].hist(int_array, bins = 15)\n",
    "axes[1,0].set_title('n=50')\n",
    "\n",
    "num_draws=250\n",
    "int_array = np.zeros(1000)\n",
    "for i in range(1000):\n",
    "    int_array[i] = draw_Z(num_draws)\n",
    "#print(int_array)\n",
    "axes[1,1].hist(int_array, bins = 15)\n",
    "axes[1,1].set_title('n=250')\n",
    "\n",
    "figure.tight_layout()"
   ]
  },
  {
   "cell_type": "markdown",
   "metadata": {},
   "source": [
    "# Q3\n",
    "\n",
    "Estimate the mean and standard deviation from 1 dimensional data: generate 25,000 samples from a Gaussian distribution with mean 0 and standard deviation 5. Then estimate the mean and standard deviation of this gaussian using elementary numpy commands, i.e., addition, multiplication, division (do not use a command that takes data and returns the mean or standard deviation)."
   ]
  },
  {
   "cell_type": "code",
   "execution_count": 4,
   "metadata": {},
   "outputs": [
    {
     "name": "stdout",
     "output_type": "stream",
     "text": [
      "The calculated mean is:  0.036019457348209195  and the standard deviation is:  5.0093222096439\n"
     ]
    }
   ],
   "source": [
    "mu4 = 0\n",
    "sigma4 = 5\n",
    "num_obs4 = 25000\n",
    "obs4 = np.random.normal(mu4, sigma4, num_obs4)\n",
    "\n",
    "mean_obs4 = np.sum(obs4)/num_obs4\n",
    "int_array1 = np.full((num_obs4), mean_obs4)\n",
    "int_array2 = np.subtract(obs4,int_array1)\n",
    "int_array3 = np.multiply(int_array2,int_array2)\n",
    "stdev_obs4 = np.sqrt(np.sum(int_array3)/(num_obs4-1))\n",
    "\n",
    "print(\"The calculated mean is: \",mean_obs4,\" and the standard deviation is: \",stdev_obs4)"
   ]
  },
  {
   "cell_type": "markdown",
   "metadata": {},
   "source": [
    "# Q4\n",
    "\n",
    "Estimate the mean and covariance matrix for multi-dimensional data: generate 10,000 samples of 2 dimensional data from the Gaussian distribution provided in problem description.\n",
    "\n",
    "Then, estimate the mean and covariance matrix for this multi-dimensional data using elementary numpy commands, i.e., addition, multiplication, division (do not use a command that takes data and returns the mean or standard deviation)."
   ]
  },
  {
   "cell_type": "code",
   "execution_count": 15,
   "metadata": {},
   "outputs": [
    {
     "name": "stdout",
     "output_type": "stream",
     "text": [
      "[-5.00598256  5.11862717]\n",
      "[[19.46450337  0.83312153]\n",
      " [ 0.83312153 29.02043498]]\n"
     ]
    }
   ],
   "source": [
    "mean_arr = [-5, 5]\n",
    "cov_mat = [[20, 0.8], [0.8, 30]]\n",
    "num_obs5 = 10000\n",
    "\n",
    "obs5 = np.empty(shape=(num_obs5,2))\n",
    "for i in range(num_obs5):\n",
    "    obs5[i] = np.random.multivariate_normal(mean_arr,cov_mat)\n",
    "\n",
    "mean_arr_est = obs5.sum(axis=0)/num_obs5\n",
    "print(mean_arr_est)\n",
    "\n",
    "int_array4 = np.full([num_obs5,2], mean_arr_est)\n",
    "D_cent = np.subtract(obs5,int_array4)\n",
    "temp_array = np.matmul(np.transpose(D_cent),D_cent)\n",
    "print(temp_array/(num_obs5-1))\n",
    "\n",
    "#print(np.cov(np.transpose(obs5)))\n"
   ]
  },
  {
   "cell_type": "markdown",
   "metadata": {},
   "source": [
    "# Q5\n",
    "\n",
    "Download from Canvas/Files the dataset PatientData.csv.\n",
    "Each row is a patient and the last column is the condition that the patient has. Do data\n",
    "exploration using Pandas and other visualization tools to understand what you can about the\n",
    "dataset. For example:\n",
    "\n",
    "*(a) How many patients and how many features are there?*\n",
    "\n",
    "*(b) What is the meaning of the first 4 features? See if you can understand what they mean.*\n",
    "\n",
    "*(c) Are there missing values? Replace them with the average of the corresponding feature column*\n",
    "\n",
    "*(d) How could you test which features strongly influence the patient condition and which do not? List what you think are the three most important features.*"
   ]
  },
  {
   "cell_type": "code",
   "execution_count": 26,
   "metadata": {},
   "outputs": [
    {
     "name": "stdout",
     "output_type": "stream",
     "text": [
      "   0    1    2    3    4    5    6    7    8    9    ...  270   271  272  273  \\\n",
      "0   75    0  190   80   91  193  371  174  121  -16  ...  0.0   9.0 -0.9  0.0   \n",
      "1   56    1  165   64   81  174  401  149   39   25  ...  0.0   8.5  0.0  0.0   \n",
      "2   54    0  172   95  138  163  386  185  102   96  ...  0.0   9.5 -2.4  0.0   \n",
      "3   55    0  175   94  100  202  380  179  143   28  ...  0.0  12.2 -2.2  0.0   \n",
      "4   75    0  190   80   88  181  360  177  103  -16  ...  0.0  13.1 -3.6  0.0   \n",
      "\n",
      "   274  275  276   277   278  279  \n",
      "0  0.0  0.9  2.9  23.3  49.4    8  \n",
      "1  0.0  0.2  2.1  20.4  38.8    6  \n",
      "2  0.0  0.3  3.4  12.3  49.0   10  \n",
      "3  0.0  0.4  2.6  34.6  61.6    1  \n",
      "4  0.0 -0.1  3.9  25.4  62.8    7  \n",
      "\n",
      "[5 rows x 280 columns]\n",
      "a) The number of patients is:  452  and the number of features is:  280\n",
      "b) The first 4 features appear to be age, gender, height, and weight.\n",
      "c) There are missing values in the dataset:  True\n",
      "The missing values have been filled with the average of the corresponding columns.\n"
     ]
    }
   ],
   "source": [
    "dataset = pd.read_csv(\"PatientData.csv\", header=None)\n",
    "\n",
    "print(dataset.head())\n",
    "\n",
    "num_patients = dataset.shape[0]\n",
    "num_features = dataset.shape[1]\n",
    "\n",
    "#print(dataset[279].describe(percentiles = [0.05,0.25,0.5,0.75,0.95]))\n",
    "\n",
    "print(\"a) The number of patients is: \",num_patients,\" and the number of features is: \",num_features)\n",
    "\n",
    "print(\"b) The first 4 features appear to be age, gender, height, and weight.\")\n",
    "\n",
    "cols = list(dataset.columns) \n",
    "dataset[cols] = pd.to_numeric(dataset[cols].stack(), errors='coerce').unstack()\n",
    "print(\"c) There are missing values in the dataset: \",dataset.isnull().any().any())\n",
    "dataset_1=dataset.fillna(dataset.mean())\n",
    "print(\"The missing values have been filled with the average of the corresponding columns.\")\n",
    "\n"
   ]
  }
 ],
 "metadata": {
  "kernelspec": {
   "display_name": "Python 3",
   "language": "python",
   "name": "python3"
  },
  "language_info": {
   "codemirror_mode": {
    "name": "ipython",
    "version": 3
   },
   "file_extension": ".py",
   "mimetype": "text/x-python",
   "name": "python",
   "nbconvert_exporter": "python",
   "pygments_lexer": "ipython3",
   "version": "3.7.3"
  }
 },
 "nbformat": 4,
 "nbformat_minor": 4
}
