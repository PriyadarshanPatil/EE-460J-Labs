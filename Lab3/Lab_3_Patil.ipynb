{
 "cells": [
  {
   "cell_type": "code",
   "execution_count": 1,
   "metadata": {},
   "outputs": [],
   "source": [
    "import pandas as pd\n",
    "import numpy as np\n",
    "import seaborn as sns\n",
    "import matplotlib\n",
    "import pdfminer\n",
    "import glob\n",
    "import scipy\n",
    "import math\n",
    "import random\n",
    "\n",
    "\n",
    "import matplotlib.pyplot as plt\n",
    "from scipy.stats import skew\n",
    "from scipy.stats.stats import pearsonr\n",
    "\n",
    "from pdfminer.pdfinterp import PDFResourceManager, PDFPageInterpreter\n",
    "from pdfminer.converter import TextConverter\n",
    "from pdfminer.layout import LAParams\n",
    "from pdfminer.pdfpage import PDFPage\n",
    "from io import StringIO\n",
    "from sklearn.feature_extraction.text import CountVectorizer\n",
    "from nltk.lm import MLE\n",
    "from nltk.lm.preprocessing import padded_everygram_pipeline\n",
    "from nltk.tokenize.treebank import TreebankWordDetokenizer\n",
    "#This block is just for importing relevant libraries"
   ]
  },
  {
   "cell_type": "markdown",
   "metadata": {},
   "source": [
    "# Q1\n",
    "\n",
    "Read Shannon's 1948 paper 'A Mathematical Theory of Communication'. Focus on pages 1-19 (up to Part II), the remaining part is more relevant for communication. http://math.harvard.edu/~ctm/home/text/others/shannon/entropy/entropy.pdf Summarize what you learned briely (e.g. half a page)."
   ]
  },
  {
   "cell_type": "markdown",
   "metadata": {},
   "source": [
    "Shannon's paper, \"A Mathematical Theory of Communication\", aims to tackle a fundamental problem of communication (as of 1948) relating to noiseless communication systems. The first part of the paper provides a brief intuition for the choice of the logarithmic function for information transfer, and then defines a communication system in terms of five components. The first two components are information source which provides the information to be transmit, and transmitter, which encodes the message in the form of a signal that can be transmit. The last two components are receiver and destination, which are the inverse of the transmitter and source, respectively. The transmitter and receiver are connected by a channel which is the medium used to transmit the signal, and that is where noise is likely to be introduced.\n",
    "\n",
    "The next few subsections look at the mathematial properties of discrete noiseless systems. Starting with the capacity of a channel, there is a brief discussion on allowable sequences, sources of information, approximations and n-grams. Generally, these sections try to lay the foundation for modern natural language processing (NLP), by talking about series of approximations to english, establishing sentences as a Markov (Markoff?) process and specifically, ergodic processes.\n",
    "\n",
    "After this formulation, a measure of uncertainity is introduced. This measure is entropy, and it has to follow three properties relating to the probaility distribution, i.e., continuity, monotonically increasing funcion of number of choices and indifference to successive choices. The only function satisfying said properties is the proposed \"Shannon\" formula which defines entropy as:\n",
    "\n",
    "$H = -K \\Sigma_{i=1}^n p_i logp_i$\n",
    "\n",
    "A few properties of this formula are explored such as behavior at extremes, behavior under joint distributions, conditional entropy, etc. The last few subsections talk about application of entropy to an information source, and how encoding/decoding operations can be represented to minimize the number of required bits. The fundamental theorem for a noiseless channel provides a hard upper bound for the avergae symbols per second transmitted for a given channel. Lastly, an example is provided to show how the average number of bits is obtained for a toy example with a special encoding scheme. "
   ]
  },
  {
   "cell_type": "markdown",
   "metadata": {},
   "source": [
    "# Q2\n",
    "\n",
    "## Scraping, Entropy and ICML papers\n",
    "\n",
    "ICML is a top research conference in Machine learning. Scrape all the pdfs of all ICML 2017 papers\n",
    "from http://proceedings.mlr.press/v70/.\n",
    "1. What are the top 10 common words in the ICML papers?\n",
    "\n",
    "2. Let Z be a randomly selected word in a randomly selected ICML paper. Estimate the entropy of Z.\n",
    "\n",
    "3. Synthesize a random paragraph using the marginal distribution over words.\n",
    "\n",
    "4. (Extra credit) Synthesize a random paragraph using an n-gram model on words. Synthesize a random paragraph using any model you want. Top five synthesized text paragraphs win bonus (+30 points)."
   ]
  },
  {
   "cell_type": "markdown",
   "metadata": {},
   "source": [
    "#### Preprocessing\n",
    "This code block below reads in all pdf files and pastes the plaintext into one txt file."
   ]
  },
  {
   "cell_type": "code",
   "execution_count": 2,
   "metadata": {},
   "outputs": [
    {
     "name": "stdout",
     "output_type": "stream",
     "text": [
      "Working on: C:\\Users\\priya\\Dropbox\\Sorted\\UT Austin Academics\\Fall 20\\EE 460 Data science lab\\Lab 3\\ICML Papers\\achab17a.pdf\n",
      "\n",
      "Working on: C:\\Users\\priya\\Dropbox\\Sorted\\UT Austin Academics\\Fall 20\\EE 460 Data science lab\\Lab 3\\ICML Papers\\acharya17a.pdf\n",
      "\n",
      "Working on: C:\\Users\\priya\\Dropbox\\Sorted\\UT Austin Academics\\Fall 20\\EE 460 Data science lab\\Lab 3\\ICML Papers\\achiam17a.pdf\n",
      "\n",
      "Working on: C:\\Users\\priya\\Dropbox\\Sorted\\UT Austin Academics\\Fall 20\\EE 460 Data science lab\\Lab 3\\ICML Papers\\agarwal17a.pdf\n",
      "\n",
      "Working on: C:\\Users\\priya\\Dropbox\\Sorted\\UT Austin Academics\\Fall 20\\EE 460 Data science lab\\Lab 3\\ICML Papers\\akrour17a.pdf\n",
      "\n"
     ]
    },
    {
     "ename": "KeyboardInterrupt",
     "evalue": "",
     "output_type": "error",
     "traceback": [
      "\u001b[1;31m---------------------------------------------------------------------------\u001b[0m",
      "\u001b[1;31mKeyboardInterrupt\u001b[0m                         Traceback (most recent call last)",
      "\u001b[1;32m<ipython-input-2-b8164c76b467>\u001b[0m in \u001b[0;36m<module>\u001b[1;34m\u001b[0m\n\u001b[0;32m     46\u001b[0m     \u001b[0mpdfConverter\u001b[0m \u001b[1;33m=\u001b[0m \u001b[0mPdfConverter\u001b[0m\u001b[1;33m(\u001b[0m\u001b[0mfile_path\u001b[0m\u001b[1;33m=\u001b[0m\u001b[0mpdf\u001b[0m\u001b[1;33m)\u001b[0m\u001b[1;33m\u001b[0m\u001b[1;33m\u001b[0m\u001b[0m\n\u001b[0;32m     47\u001b[0m     \u001b[1;31m#print(pdfConverter.convert_pdf_to_txt())\u001b[0m\u001b[1;33m\u001b[0m\u001b[1;33m\u001b[0m\u001b[1;33m\u001b[0m\u001b[0m\n\u001b[1;32m---> 48\u001b[1;33m     \u001b[0mpdfConverter\u001b[0m\u001b[1;33m.\u001b[0m\u001b[0msave_convert_pdf_to_txt\u001b[0m\u001b[1;33m(\u001b[0m\u001b[1;33m)\u001b[0m\u001b[1;33m\u001b[0m\u001b[1;33m\u001b[0m\u001b[0m\n\u001b[0m",
      "\u001b[1;32m<ipython-input-2-b8164c76b467>\u001b[0m in \u001b[0;36msave_convert_pdf_to_txt\u001b[1;34m(self)\u001b[0m\n\u001b[0;32m     31\u001b[0m \u001b[1;31m# convert pdf file text to string and save as a text_pdf.txt file\u001b[0m\u001b[1;33m\u001b[0m\u001b[1;33m\u001b[0m\u001b[1;33m\u001b[0m\u001b[0m\n\u001b[0;32m     32\u001b[0m    \u001b[1;32mdef\u001b[0m \u001b[0msave_convert_pdf_to_txt\u001b[0m\u001b[1;33m(\u001b[0m\u001b[0mself\u001b[0m\u001b[1;33m)\u001b[0m\u001b[1;33m:\u001b[0m\u001b[1;33m\u001b[0m\u001b[1;33m\u001b[0m\u001b[0m\n\u001b[1;32m---> 33\u001b[1;33m        \u001b[0mcontent\u001b[0m \u001b[1;33m=\u001b[0m \u001b[0mself\u001b[0m\u001b[1;33m.\u001b[0m\u001b[0mconvert_pdf_to_txt\u001b[0m\u001b[1;33m(\u001b[0m\u001b[1;33m)\u001b[0m\u001b[1;33m\u001b[0m\u001b[1;33m\u001b[0m\u001b[0m\n\u001b[0m\u001b[0;32m     34\u001b[0m        \u001b[0mtxt_pdf\u001b[0m \u001b[1;33m=\u001b[0m \u001b[0mopen\u001b[0m\u001b[1;33m(\u001b[0m\u001b[1;34m'text_pdf.txt'\u001b[0m\u001b[1;33m,\u001b[0m \u001b[1;34m'ab'\u001b[0m\u001b[1;33m)\u001b[0m\u001b[1;33m\u001b[0m\u001b[1;33m\u001b[0m\u001b[0m\n\u001b[0;32m     35\u001b[0m        \u001b[0mtxt_pdf\u001b[0m\u001b[1;33m.\u001b[0m\u001b[0mwrite\u001b[0m\u001b[1;33m(\u001b[0m\u001b[0mcontent\u001b[0m\u001b[1;33m.\u001b[0m\u001b[0mencode\u001b[0m\u001b[1;33m(\u001b[0m\u001b[1;34m'utf-8'\u001b[0m\u001b[1;33m)\u001b[0m\u001b[1;33m)\u001b[0m\u001b[1;33m\u001b[0m\u001b[1;33m\u001b[0m\u001b[0m\n",
      "\u001b[1;32m<ipython-input-2-b8164c76b467>\u001b[0m in \u001b[0;36mconvert_pdf_to_txt\u001b[1;34m(self)\u001b[0m\n\u001b[0;32m     23\u001b[0m        \u001b[0mpagenos\u001b[0m \u001b[1;33m=\u001b[0m \u001b[0mset\u001b[0m\u001b[1;33m(\u001b[0m\u001b[1;33m)\u001b[0m\u001b[1;33m\u001b[0m\u001b[1;33m\u001b[0m\u001b[0m\n\u001b[0;32m     24\u001b[0m        \u001b[1;32mfor\u001b[0m \u001b[0mpage\u001b[0m \u001b[1;32min\u001b[0m \u001b[0mPDFPage\u001b[0m\u001b[1;33m.\u001b[0m\u001b[0mget_pages\u001b[0m\u001b[1;33m(\u001b[0m\u001b[0mfp\u001b[0m\u001b[1;33m,\u001b[0m \u001b[0mpagenos\u001b[0m\u001b[1;33m,\u001b[0m \u001b[0mmaxpages\u001b[0m\u001b[1;33m=\u001b[0m\u001b[0mmaxpages\u001b[0m\u001b[1;33m,\u001b[0m \u001b[0mpassword\u001b[0m\u001b[1;33m=\u001b[0m\u001b[0mpassword\u001b[0m\u001b[1;33m,\u001b[0m \u001b[0mcaching\u001b[0m\u001b[1;33m=\u001b[0m\u001b[0mcaching\u001b[0m\u001b[1;33m,\u001b[0m \u001b[0mcheck_extractable\u001b[0m\u001b[1;33m=\u001b[0m\u001b[1;32mTrue\u001b[0m\u001b[1;33m)\u001b[0m\u001b[1;33m:\u001b[0m\u001b[1;33m\u001b[0m\u001b[1;33m\u001b[0m\u001b[0m\n\u001b[1;32m---> 25\u001b[1;33m            \u001b[0minterpreter\u001b[0m\u001b[1;33m.\u001b[0m\u001b[0mprocess_page\u001b[0m\u001b[1;33m(\u001b[0m\u001b[0mpage\u001b[0m\u001b[1;33m)\u001b[0m\u001b[1;33m\u001b[0m\u001b[1;33m\u001b[0m\u001b[0m\n\u001b[0m\u001b[0;32m     26\u001b[0m        \u001b[0mfp\u001b[0m\u001b[1;33m.\u001b[0m\u001b[0mclose\u001b[0m\u001b[1;33m(\u001b[0m\u001b[1;33m)\u001b[0m\u001b[1;33m\u001b[0m\u001b[1;33m\u001b[0m\u001b[0m\n\u001b[0;32m     27\u001b[0m        \u001b[0mdevice\u001b[0m\u001b[1;33m.\u001b[0m\u001b[0mclose\u001b[0m\u001b[1;33m(\u001b[0m\u001b[1;33m)\u001b[0m\u001b[1;33m\u001b[0m\u001b[1;33m\u001b[0m\u001b[0m\n",
      "\u001b[1;32m~\\Anaconda3\\lib\\site-packages\\pdfminer\\pdfinterp.py\u001b[0m in \u001b[0;36mprocess_page\u001b[1;34m(self, page)\u001b[0m\n\u001b[0;32m    894\u001b[0m         \u001b[0mself\u001b[0m\u001b[1;33m.\u001b[0m\u001b[0mdevice\u001b[0m\u001b[1;33m.\u001b[0m\u001b[0mbegin_page\u001b[0m\u001b[1;33m(\u001b[0m\u001b[0mpage\u001b[0m\u001b[1;33m,\u001b[0m \u001b[0mctm\u001b[0m\u001b[1;33m)\u001b[0m\u001b[1;33m\u001b[0m\u001b[1;33m\u001b[0m\u001b[0m\n\u001b[0;32m    895\u001b[0m         \u001b[0mself\u001b[0m\u001b[1;33m.\u001b[0m\u001b[0mrender_contents\u001b[0m\u001b[1;33m(\u001b[0m\u001b[0mpage\u001b[0m\u001b[1;33m.\u001b[0m\u001b[0mresources\u001b[0m\u001b[1;33m,\u001b[0m \u001b[0mpage\u001b[0m\u001b[1;33m.\u001b[0m\u001b[0mcontents\u001b[0m\u001b[1;33m,\u001b[0m \u001b[0mctm\u001b[0m\u001b[1;33m=\u001b[0m\u001b[0mctm\u001b[0m\u001b[1;33m)\u001b[0m\u001b[1;33m\u001b[0m\u001b[1;33m\u001b[0m\u001b[0m\n\u001b[1;32m--> 896\u001b[1;33m         \u001b[0mself\u001b[0m\u001b[1;33m.\u001b[0m\u001b[0mdevice\u001b[0m\u001b[1;33m.\u001b[0m\u001b[0mend_page\u001b[0m\u001b[1;33m(\u001b[0m\u001b[0mpage\u001b[0m\u001b[1;33m)\u001b[0m\u001b[1;33m\u001b[0m\u001b[1;33m\u001b[0m\u001b[0m\n\u001b[0m\u001b[0;32m    897\u001b[0m         \u001b[1;32mreturn\u001b[0m\u001b[1;33m\u001b[0m\u001b[1;33m\u001b[0m\u001b[0m\n\u001b[0;32m    898\u001b[0m \u001b[1;33m\u001b[0m\u001b[0m\n",
      "\u001b[1;32m~\\Anaconda3\\lib\\site-packages\\pdfminer\\converter.py\u001b[0m in \u001b[0;36mend_page\u001b[1;34m(self, page)\u001b[0m\n\u001b[0;32m     50\u001b[0m         \u001b[1;32massert\u001b[0m \u001b[0misinstance\u001b[0m\u001b[1;33m(\u001b[0m\u001b[0mself\u001b[0m\u001b[1;33m.\u001b[0m\u001b[0mcur_item\u001b[0m\u001b[1;33m,\u001b[0m \u001b[0mLTPage\u001b[0m\u001b[1;33m)\u001b[0m\u001b[1;33m,\u001b[0m \u001b[0mstr\u001b[0m\u001b[1;33m(\u001b[0m\u001b[0mtype\u001b[0m\u001b[1;33m(\u001b[0m\u001b[0mself\u001b[0m\u001b[1;33m.\u001b[0m\u001b[0mcur_item\u001b[0m\u001b[1;33m)\u001b[0m\u001b[1;33m)\u001b[0m\u001b[1;33m\u001b[0m\u001b[1;33m\u001b[0m\u001b[0m\n\u001b[0;32m     51\u001b[0m         \u001b[1;32mif\u001b[0m \u001b[0mself\u001b[0m\u001b[1;33m.\u001b[0m\u001b[0mlaparams\u001b[0m \u001b[1;32mis\u001b[0m \u001b[1;32mnot\u001b[0m \u001b[1;32mNone\u001b[0m\u001b[1;33m:\u001b[0m\u001b[1;33m\u001b[0m\u001b[1;33m\u001b[0m\u001b[0m\n\u001b[1;32m---> 52\u001b[1;33m             \u001b[0mself\u001b[0m\u001b[1;33m.\u001b[0m\u001b[0mcur_item\u001b[0m\u001b[1;33m.\u001b[0m\u001b[0manalyze\u001b[0m\u001b[1;33m(\u001b[0m\u001b[0mself\u001b[0m\u001b[1;33m.\u001b[0m\u001b[0mlaparams\u001b[0m\u001b[1;33m)\u001b[0m\u001b[1;33m\u001b[0m\u001b[1;33m\u001b[0m\u001b[0m\n\u001b[0m\u001b[0;32m     53\u001b[0m         \u001b[0mself\u001b[0m\u001b[1;33m.\u001b[0m\u001b[0mpageno\u001b[0m \u001b[1;33m+=\u001b[0m \u001b[1;36m1\u001b[0m\u001b[1;33m\u001b[0m\u001b[1;33m\u001b[0m\u001b[0m\n\u001b[0;32m     54\u001b[0m         \u001b[0mself\u001b[0m\u001b[1;33m.\u001b[0m\u001b[0mreceive_layout\u001b[0m\u001b[1;33m(\u001b[0m\u001b[0mself\u001b[0m\u001b[1;33m.\u001b[0m\u001b[0mcur_item\u001b[0m\u001b[1;33m)\u001b[0m\u001b[1;33m\u001b[0m\u001b[1;33m\u001b[0m\u001b[0m\n",
      "\u001b[1;32m~\\Anaconda3\\lib\\site-packages\\pdfminer\\layout.py\u001b[0m in \u001b[0;36manalyze\u001b[1;34m(self, laparams)\u001b[0m\n\u001b[0;32m    793\u001b[0m         \u001b[1;32mif\u001b[0m \u001b[1;32mnot\u001b[0m \u001b[0mtextobjs\u001b[0m\u001b[1;33m:\u001b[0m\u001b[1;33m\u001b[0m\u001b[1;33m\u001b[0m\u001b[0m\n\u001b[0;32m    794\u001b[0m             \u001b[1;32mreturn\u001b[0m\u001b[1;33m\u001b[0m\u001b[1;33m\u001b[0m\u001b[0m\n\u001b[1;32m--> 795\u001b[1;33m         \u001b[0mtextlines\u001b[0m \u001b[1;33m=\u001b[0m \u001b[0mlist\u001b[0m\u001b[1;33m(\u001b[0m\u001b[0mself\u001b[0m\u001b[1;33m.\u001b[0m\u001b[0mgroup_objects\u001b[0m\u001b[1;33m(\u001b[0m\u001b[0mlaparams\u001b[0m\u001b[1;33m,\u001b[0m \u001b[0mtextobjs\u001b[0m\u001b[1;33m)\u001b[0m\u001b[1;33m)\u001b[0m\u001b[1;33m\u001b[0m\u001b[1;33m\u001b[0m\u001b[0m\n\u001b[0m\u001b[0;32m    796\u001b[0m         \u001b[1;33m(\u001b[0m\u001b[0mempties\u001b[0m\u001b[1;33m,\u001b[0m \u001b[0mtextlines\u001b[0m\u001b[1;33m)\u001b[0m \u001b[1;33m=\u001b[0m \u001b[0mfsplit\u001b[0m\u001b[1;33m(\u001b[0m\u001b[1;32mlambda\u001b[0m \u001b[0mobj\u001b[0m\u001b[1;33m:\u001b[0m \u001b[0mobj\u001b[0m\u001b[1;33m.\u001b[0m\u001b[0mis_empty\u001b[0m\u001b[1;33m(\u001b[0m\u001b[1;33m)\u001b[0m\u001b[1;33m,\u001b[0m \u001b[0mtextlines\u001b[0m\u001b[1;33m)\u001b[0m\u001b[1;33m\u001b[0m\u001b[1;33m\u001b[0m\u001b[0m\n\u001b[0;32m    797\u001b[0m         \u001b[1;32mfor\u001b[0m \u001b[0mobj\u001b[0m \u001b[1;32min\u001b[0m \u001b[0mempties\u001b[0m\u001b[1;33m:\u001b[0m\u001b[1;33m\u001b[0m\u001b[1;33m\u001b[0m\u001b[0m\n",
      "\u001b[1;32m~\\Anaconda3\\lib\\site-packages\\pdfminer\\layout.py\u001b[0m in \u001b[0;36mgroup_objects\u001b[1;34m(self, laparams, objs)\u001b[0m\n\u001b[0;32m    617\u001b[0m                     \u001b[1;32mand\u001b[0m \u001b[0mobj0\u001b[0m\u001b[1;33m.\u001b[0m\u001b[0mis_voverlap\u001b[0m\u001b[1;33m(\u001b[0m\u001b[0mobj1\u001b[0m\u001b[1;33m)\u001b[0m\u001b[0;31m \u001b[0m\u001b[0;31m\\\u001b[0m\u001b[1;33m\u001b[0m\u001b[1;33m\u001b[0m\u001b[0m\n\u001b[0;32m    618\u001b[0m                     \u001b[1;32mand\u001b[0m \u001b[0mmin\u001b[0m\u001b[1;33m(\u001b[0m\u001b[0mobj0\u001b[0m\u001b[1;33m.\u001b[0m\u001b[0mheight\u001b[0m\u001b[1;33m,\u001b[0m \u001b[0mobj1\u001b[0m\u001b[1;33m.\u001b[0m\u001b[0mheight\u001b[0m\u001b[1;33m)\u001b[0m \u001b[1;33m*\u001b[0m \u001b[0mlaparams\u001b[0m\u001b[1;33m.\u001b[0m\u001b[0mline_overlap\u001b[0m\u001b[0;31m \u001b[0m\u001b[0;31m\\\u001b[0m\u001b[1;33m\u001b[0m\u001b[1;33m\u001b[0m\u001b[0m\n\u001b[1;32m--> 619\u001b[1;33m                     \u001b[1;33m<\u001b[0m \u001b[0mobj0\u001b[0m\u001b[1;33m.\u001b[0m\u001b[0mvoverlap\u001b[0m\u001b[1;33m(\u001b[0m\u001b[0mobj1\u001b[0m\u001b[1;33m)\u001b[0m\u001b[0;31m \u001b[0m\u001b[0;31m\\\u001b[0m\u001b[1;33m\u001b[0m\u001b[1;33m\u001b[0m\u001b[0m\n\u001b[0m\u001b[0;32m    620\u001b[0m                     \u001b[1;32mand\u001b[0m \u001b[0mobj0\u001b[0m\u001b[1;33m.\u001b[0m\u001b[0mhdistance\u001b[0m\u001b[1;33m(\u001b[0m\u001b[0mobj1\u001b[0m\u001b[1;33m)\u001b[0m\u001b[0;31m \u001b[0m\u001b[0;31m\\\u001b[0m\u001b[1;33m\u001b[0m\u001b[1;33m\u001b[0m\u001b[0m\n\u001b[0;32m    621\u001b[0m                     \u001b[1;33m<\u001b[0m \u001b[0mmax\u001b[0m\u001b[1;33m(\u001b[0m\u001b[0mobj0\u001b[0m\u001b[1;33m.\u001b[0m\u001b[0mwidth\u001b[0m\u001b[1;33m,\u001b[0m \u001b[0mobj1\u001b[0m\u001b[1;33m.\u001b[0m\u001b[0mwidth\u001b[0m\u001b[1;33m)\u001b[0m \u001b[1;33m*\u001b[0m \u001b[0mlaparams\u001b[0m\u001b[1;33m.\u001b[0m\u001b[0mchar_margin\u001b[0m\u001b[1;33m\u001b[0m\u001b[1;33m\u001b[0m\u001b[0m\n",
      "\u001b[1;32m~\\Anaconda3\\lib\\site-packages\\pdfminer\\layout.py\u001b[0m in \u001b[0;36mvoverlap\u001b[1;34m(self, obj)\u001b[0m\n\u001b[0;32m    183\u001b[0m \u001b[1;33m\u001b[0m\u001b[0m\n\u001b[0;32m    184\u001b[0m     \u001b[1;32mdef\u001b[0m \u001b[0mvoverlap\u001b[0m\u001b[1;33m(\u001b[0m\u001b[0mself\u001b[0m\u001b[1;33m,\u001b[0m \u001b[0mobj\u001b[0m\u001b[1;33m)\u001b[0m\u001b[1;33m:\u001b[0m\u001b[1;33m\u001b[0m\u001b[1;33m\u001b[0m\u001b[0m\n\u001b[1;32m--> 185\u001b[1;33m         \u001b[1;32massert\u001b[0m \u001b[0misinstance\u001b[0m\u001b[1;33m(\u001b[0m\u001b[0mobj\u001b[0m\u001b[1;33m,\u001b[0m \u001b[0mLTComponent\u001b[0m\u001b[1;33m)\u001b[0m\u001b[1;33m,\u001b[0m \u001b[0mstr\u001b[0m\u001b[1;33m(\u001b[0m\u001b[0mtype\u001b[0m\u001b[1;33m(\u001b[0m\u001b[0mobj\u001b[0m\u001b[1;33m)\u001b[0m\u001b[1;33m)\u001b[0m\u001b[1;33m\u001b[0m\u001b[1;33m\u001b[0m\u001b[0m\n\u001b[0m\u001b[0;32m    186\u001b[0m         \u001b[1;32mif\u001b[0m \u001b[0mself\u001b[0m\u001b[1;33m.\u001b[0m\u001b[0mis_voverlap\u001b[0m\u001b[1;33m(\u001b[0m\u001b[0mobj\u001b[0m\u001b[1;33m)\u001b[0m\u001b[1;33m:\u001b[0m\u001b[1;33m\u001b[0m\u001b[1;33m\u001b[0m\u001b[0m\n\u001b[0;32m    187\u001b[0m             \u001b[1;32mreturn\u001b[0m \u001b[0mmin\u001b[0m\u001b[1;33m(\u001b[0m\u001b[0mabs\u001b[0m\u001b[1;33m(\u001b[0m\u001b[0mself\u001b[0m\u001b[1;33m.\u001b[0m\u001b[0my0\u001b[0m\u001b[1;33m-\u001b[0m\u001b[0mobj\u001b[0m\u001b[1;33m.\u001b[0m\u001b[0my1\u001b[0m\u001b[1;33m)\u001b[0m\u001b[1;33m,\u001b[0m \u001b[0mabs\u001b[0m\u001b[1;33m(\u001b[0m\u001b[0mself\u001b[0m\u001b[1;33m.\u001b[0m\u001b[0my1\u001b[0m\u001b[1;33m-\u001b[0m\u001b[0mobj\u001b[0m\u001b[1;33m.\u001b[0m\u001b[0my0\u001b[0m\u001b[1;33m)\u001b[0m\u001b[1;33m)\u001b[0m\u001b[1;33m\u001b[0m\u001b[1;33m\u001b[0m\u001b[0m\n",
      "\u001b[1;31mKeyboardInterrupt\u001b[0m: "
     ]
    }
   ],
   "source": [
    "class PdfConverter:\n",
    "\n",
    "   def __init__(self, file_path):\n",
    "       self.file_path = file_path\n",
    "# convert pdf file to a string which has space among words \n",
    "   def convert_pdf_to_txt(self):\n",
    "       rsrcmgr = PDFResourceManager()\n",
    "       retstr = StringIO()\n",
    "       codec = 'utf-8'  # 'utf16','utf-8'\n",
    "       laparams = LAParams()\n",
    "       device = TextConverter(rsrcmgr, retstr, codec=codec, laparams=laparams)\n",
    "       fp = open(self.file_path, 'rb')\n",
    "       interpreter = PDFPageInterpreter(rsrcmgr, device)\n",
    "       password = \"\"\n",
    "       maxpages = 0\n",
    "       caching = True\n",
    "       pagenos = set()\n",
    "       for page in PDFPage.get_pages(fp, pagenos, maxpages=maxpages, password=password, caching=caching, check_extractable=True):\n",
    "           interpreter.process_page(page)\n",
    "       fp.close()\n",
    "       device.close()\n",
    "       str = retstr.getvalue()\n",
    "       retstr.close()\n",
    "       return str\n",
    "# convert pdf file text to string and save as a text_pdf.txt file\n",
    "   def save_convert_pdf_to_txt(self):\n",
    "       content = self.convert_pdf_to_txt()\n",
    "       txt_pdf = open('text_pdf.txt', 'ab')\n",
    "       txt_pdf.write(content.encode('utf-8'))\n",
    "       txt_pdf.close()\n",
    "        \n",
    "pdflist = glob.glob(r\"C:\\Users\\priya\\Dropbox\\Sorted\\UT Austin Academics\\Fall 20\\EE 460 Data science lab\\Lab 3\\ICML Papers\\*.pdf\")\n",
    "\n",
    "for pdf in pdflist:\n",
    "    print(\"Working on: \" + pdf + '\\n')\n",
    "    pdfConverter = PdfConverter(file_path=pdf)\n",
    "    #print(pdfConverter.convert_pdf_to_txt())\n",
    "    pdfConverter.save_convert_pdf_to_txt()"
   ]
  },
  {
   "cell_type": "markdown",
   "metadata": {},
   "source": [
    "#### Part a"
   ]
  },
  {
   "cell_type": "code",
   "execution_count": 2,
   "metadata": {},
   "outputs": [
    {
     "data": {
      "text/plain": [
       "[('the', 150968),\n",
       " ('of', 76160),\n",
       " ('and', 66081),\n",
       " ('in', 54055),\n",
       " ('to', 50705),\n",
       " ('cid', 46285),\n",
       " ('is', 40360),\n",
       " ('for', 36792),\n",
       " ('we', 34037),\n",
       " ('that', 24842)]"
      ]
     },
     "execution_count": 2,
     "metadata": {},
     "output_type": "execute_result"
    }
   ],
   "source": [
    "# Read all the stored plain text from pdfs\n",
    "with open (\"text_pdf.txt\", \"r\", encoding=\"utf-8\") as myfile:\n",
    "    text=myfile.readlines()\n",
    "\n",
    "# create the transform\n",
    "vectorizer = CountVectorizer()\n",
    "# Tokenize and build vocabulary from the text corpus\n",
    "vectorizer.fit(text)\n",
    "# Summarize the vocabulary\n",
    "data = vectorizer.vocabulary_\n",
    "\n",
    "# This writes the words and counts to a txt file\n",
    "with open('Word_counts.txt', 'w', encoding = \"utf-8\") as f:\n",
    "    print(vectorizer.vocabulary_, file=f)\n",
    "\n",
    "# A function is defined to return top n frequent words from a vocabulary list\n",
    "def get_top_n_words(corpus, n=None):\n",
    "    vec = CountVectorizer().fit(corpus)\n",
    "    bag_of_words = vec.transform(corpus)\n",
    "    sum_words = bag_of_words.sum(axis=0) \n",
    "    words_freq = [(word, sum_words[0, idx]) for word, idx in     vec.vocabulary_.items()]\n",
    "    words_freq =sorted(words_freq, key = lambda x: x[1], reverse=True)\n",
    "    return words_freq[:n]\n",
    "\n",
    "get_top_n_words(text, 10)"
   ]
  },
  {
   "cell_type": "markdown",
   "metadata": {},
   "source": [
    "#### Part b"
   ]
  },
  {
   "cell_type": "code",
   "execution_count": 3,
   "metadata": {},
   "outputs": [
    {
     "name": "stdout",
     "output_type": "stream",
     "text": [
      "2374466328\n",
      "The Shannon entropy is calculated to be:  15.793825595633031\n"
     ]
    }
   ],
   "source": [
    "# This converts the counts to raw probabilities of appearance, and drops zero value words, i.e., so rare that their probability was rounded down to zero.\n",
    "Prob_dist_raw = list(vectorizer.vocabulary_.values())\n",
    "Prob_dist = []\n",
    "sum_prob = sum(Prob_dist_raw)\n",
    "for x in Prob_dist_raw:\n",
    "    Prob_dist.append(x/sum_prob)\n",
    "#print(Prob_dist)\n",
    "Prob_dist = [i for i in Prob_dist if i != 0]\n",
    "\n",
    "# Entropy calculation below\n",
    "entropy = 0\n",
    "for i in range(len(Prob_dist)):\n",
    "    entropy = entropy + (Prob_dist[i]* math.log2(Prob_dist[i]))\n",
    "entropy = entropy*(-1)\n",
    "print(\"The Shannon entropy is calculated to be: \",entropy)"
   ]
  },
  {
   "cell_type": "markdown",
   "metadata": {},
   "source": [
    "#### Part c"
   ]
  },
  {
   "cell_type": "code",
   "execution_count": 4,
   "metadata": {},
   "outputs": [
    {
     "name": "stdout",
     "output_type": "stream",
     "text": [
      "['subtract' 'biological' 'mineig' 'proprietary' 'freq' 'kushal'\n",
      " 'deeplearningbook' 'nowcasting' 'abilities' 'multimodal' 'χi' 'timally'\n",
      " 'zerocomponentsinπ' 'tiallyhigherthanitsaccuracy' 'mfccs' 'lindsten'\n",
      " 'fewcigarettesharmhealth' 'msr' 'uldas' 'ofﬁce' 'αpe' 'ues' 'u44' 'qi'\n",
      " 'wherex' 'wiki10' 'yehuda' 'vaguely' 'friends' 'themis' 'gigabytes'\n",
      " 'maharaj' 'teriori' 'unde' 'αpe' 'cussed' 'tilt' 'ρ2x2' 'swaps'\n",
      " 'emulator' 'spaces1' 'recsys' 'memorisation' 'owing' 'κj' 'kathuria'\n",
      " 'tuat' 'sαs' 'satb' 'zhenlong' 'τst' 'los' 'σd' 'ernment' 'ˆφk'\n",
      " 'auxiliary' 'paving' 'bishop' 'selc' '991flop' 'roneously' 'version2'\n",
      " 'wardsmoreintrinsicallymotivatedsolutionstocontinue' 's4'\n",
      " 'whilethechatteringpersists' 'bothofthesedatasetshaveverylowerror' 'sθi'\n",
      " 'purely' 'eliassi' 'polymorphism' 'c1n' 'popped' 'colmenarejo' 'harsh'\n",
      " 'xxxi' 'x0sq' 'unblocked' 'operations' 'sivity' 'longing' 'nottingham'\n",
      " 'inde' 'mehlhorn' 'dγit' 'huck' 'akinori' 'γ2' 'kstms' 'heave' 'gpus'\n",
      " 'les' 'dπ' 'parameterizationmemory' 'icar' 'packard' 'approximator2'\n",
      " 'ionization' 'rcnns' 'traversals' 'hypeprlanes']\n"
     ]
    }
   ],
   "source": [
    "# The block below returns n words chosen according to their probability of appearance\n",
    "# This is a \"paragraph\" of 100 words.\n",
    "n=100\n",
    "keys = np.array(list(vectorizer.vocabulary_.keys()))\n",
    "Probs = list(vectorizer.vocabulary_.values())\n",
    "sum_prob = sum(Probs)\n",
    "for x in range(len(Probs)):\n",
    "    Probs[x] = Probs[x]/sum_prob\n",
    "np.random.seed(2)\n",
    "choice_list = np.random.choice(keys, n, replace=True, p=Probs)\n",
    "print(choice_list)"
   ]
  },
  {
   "cell_type": "markdown",
   "metadata": {},
   "source": [
    "#### Part d"
   ]
  },
  {
   "cell_type": "code",
   "execution_count": 9,
   "metadata": {},
   "outputs": [
    {
     "name": "stdout",
     "output_type": "stream",
     "text": [
      "The n-gram model is training now...\n",
      "The model has been trained successfully. The details are as follows:\n",
      "<NgramCounter with 5 ngram orders and 34267605 ngrams>\n"
     ]
    }
   ],
   "source": [
    "# This block below tokenizes the word corpus\n",
    "try: # Use the default NLTK tokenizer.\n",
    "    from nltk import word_tokenize, sent_tokenize \n",
    "    word_tokenize(sent_tokenize(\"This is a foobar sentence. Yes it is.\")[0])\n",
    "except: # Use a naive sentence tokenizer and toktok.\n",
    "    import re\n",
    "    from nltk.tokenize import ToktokTokenizer\n",
    "    sent_tokenize = lambda x: re.split(r'(?<=[^A-Z].[.?]) +(?=[A-Z])', x)\n",
    "    toktok = ToktokTokenizer()\n",
    "    word_tokenize = word_tokenize = toktok.tokenize\n",
    "\n",
    "\n",
    "#This tokenizes our text saved in variable text\n",
    "tokenized_text = [list(map(str.lower, word_tokenize(sent))) \n",
    "                  for sent in sent_tokenize(str(text))]\n",
    "\n",
    "# Preprocess the tokenized text for n-grams language modelling\n",
    "n = 5\n",
    "train_data, padded_sents = padded_everygram_pipeline(n, tokenized_text)\n",
    "\n",
    "\n",
    "model = MLE(n)\n",
    "print(\"The n-gram model is training now...\")\n",
    "model.fit(train_data, padded_sents)\n",
    "print(\"The model has been trained successfully. The details are as follows:\")\n",
    "print(model.counts)"
   ]
  },
  {
   "cell_type": "code",
   "execution_count": 10,
   "metadata": {},
   "outputs": [
    {
     "name": "stdout",
     "output_type": "stream",
     "text": [
      "The random sentence number  0  is: \n",
      "probability of error and sim-\\n' ,' ple is used for neural variational inference.\n",
      "The random sentence number  1  is: \n",
      "' modeling that is entirely convolutional.\n",
      "The random sentence number  2  is: \n",
      "was used, as we had stability issues with smaller\\n' ,' network rnns trained on the tidigits digit recognition\\n' ,' \\n' ,' 80\\n' ,' \\n' ,' where zt = β1zt−1 + (1 − ρt) αu) ] \\n' ,' the graph was important for good predictive performance.\\n' ,' \\n' ,' x1, x2, . . ., k.\n",
      "The random sentence number  3  is: \n",
      "+\\n' ,' \\n' ,' \\n' ,' the main motivation for consid-\\n' ,' ered, the training cost can be reduced to the optimization problem, so running the model in real-time may\\n' ,' be learned from data.\\n' ,' as well as when α grows sub-linearly to n .\\n' ,' \\n' ,' ≤ (cid : 107) xs\\n' ,' (cid : 88) \\n' ,' i=1\\n' ,' \\n' ,' \\n' ,' and o( n2) space\\n' ,' embeddings of entities and relations can be\\n' ,' \\n' ,' isurvive, has three components: (1) while keeping the same func-\\n' ,' tion 7, we validate our theoretical results about\\n' ,' mean predicator\\n' ,' weisfeiler-lehman kernel with base kernel\\n' ,' \\x00( \\n' ,' theano-fft. https://github.com/andersbll/theano ops.\\n' ,' \\n' ,' \\n' ,' \\x00\\n' ,' since we would like to thank jeff johnson for his help\\n' ,' \\n\n",
      "The random sentence number  4  is: \n",
      "), but can potentially\\n' ,' re-weight the units in the layer directly below, but\\n' ,' scientiﬁcally interesting) associations between\\n' ,' discrepancy between barycenters and time series, at predic-\\n' ,' tion length (mdl) principle, \\n' ,' b( n) = a( n).\n",
      "The random sentence number  5  is: \n",
      "and\\n' ,' sridharan , 2013; seldin and slivkins , 2014) or medical treatment design\\n' ,' \\n' ,' 1% of generated sequences proved to be a valid molecule\\n' ,' encoding.\\n' ,' \\n' ,' i\\n' ,' \\n' ,' blkdiag\\n' ,' \\n' ,' sennrich, rico, haddow, barry, huck, matthias, jimeno-yepes, \\n' ,' u\\n' ,' \\n' ,' z = blstm( {¯xt} t\\n' ,' (α0 − α) 2\\n' ,' 1 ←...←\\n' ,' φi\\n' ,' \\n' ,' and ﬂexibility of the cdp framework.\n",
      "The random sentence number  6  is: \n",
      "models to have been described in\\n' ,' the expectation of φ over samples with dependencies by the\\n' ,' statements\\n' ,' j: , (cid : 98) h u, v\\n' ,' i\\n' ,' \\n' ,' (kruskal , 1958): suppose (x, y) (cid : 107) t v\\n' ,' ≤\\n' ,' \\n' ,' where vh denotes the head of the distribution to be assigned to\\n' ,' approximate algorithms: \\n' ,' zoran, d. and weiss, y.\n",
      "The random sentence number  7  is: \n",
      ",' kapoor, ashish, and deshpande, \\n' ,' the chain mdp example mentioned in\\n' ,' the farthest room in this map (sparse reward).\\n' ,' \\n' ,' and foot, along with 3 actuated joints.\n",
      "The random sentence number  8  is: \n",
      ") ∆i( sr) = max\\n' ,' at∈it\\n' ,' \\n' ,' \\n' ,' //arxiv.org/abs/1504.00941.\\n' ,' \\n' ,' mirza, mehdi and osindero, simon.\n",
      "The random sentence number  9  is: \n",
      "\n",
      "The random sentence number  10  is: \n",
      "\\n' ,' t\\n' ,' \\n' ,' ✏) approx-\\n' ,' imation if i) the support of the poisson is in-\\n' ,' ferring to reason at a higher level of abstraction (botvinick\\n' ,' et al. , 2008), mainly\\n' ,' because they they do not impact the dual number\\n' ,' of the random variables\\n' ,' rxz\\n' ,' quasi-instrumental variables or quasi-ivs for short.\\n' ,' \\n' ,' \\x00\\n' ,' \\n' ,' \\x00\\n' ,' 2yi + 3yj\\n' ,' 4.\n",
      "The random sentence number  11  is: \n",
      "\n",
      "The random sentence number  12  is: \n",
      "\n",
      "The random sentence number  13  is: \n",
      ",' max\\n' ,' \\n' ,' elsewhere\\n' ,' \\n' ,' 18m 3m\\n' ,' \\n' ,' tion.\\n' ,' \\n' ,' 0.09\\n' ,' 0.46\\n' ,' 3.65 ± 0.40\\n' ,' 0.40\\n' ,' 0.40\\n' ,' 0.40\\n' ,' 0.40\\n' ,' 0.10\\n' ,' 0.10\\n' ,' \\n' ,' o (poly (log (1/( cid : 15) -top-k arms.\n",
      "The random sentence number  14  is: \n",
      "' \\x00\\n' ,' \\n' ,' max\\n' ,' \\n' ,' sworker, \\n' ,' kemp, c., tenenbaum, j.\n",
      "The random sentence number  15  is: \n",
      "which\\n' ,' would additionally like the baseline to convey a complete\\n' ,' the svm-sgd learning algorithm.\n",
      "The random sentence number  16  is: \n",
      ",' a list of documents (chuklin et al. , 2015; dinh\\n' ,' et al. , 1997) and gated recur-\\n' ,' rent neural networks improves its ability to perform long-\\n' ,' studied in (yong , 2015).\n",
      "The random sentence number  17  is: \n",
      "for this dual optimization over y we uti-\\n' ,' lized for approximating huge matrices (cheng et al. , 2015) to conduct experiments on en↔fr and\\n' ,' ﬁlters.\n",
      "The random sentence number  18  is: \n",
      "' \\n' ,' cho, kyunghyun, and bengio, yoshua.\n",
      "The random sentence number  19  is: \n",
      "data set d( cid : 63) ).\n"
     ]
    }
   ],
   "source": [
    "detokenize = TreebankWordDetokenizer().detokenize\n",
    "\n",
    "def generate_sentence(model, num_words, random_seed=42):\n",
    "    \"\"\"\n",
    "    :param model: An ngram language model from `nltk.lm.model`.\n",
    "    :param num_words: Max no. of words to generate.\n",
    "    :param random_seed: Seed value for random.\n",
    "    \"\"\"\n",
    "    content = []\n",
    "    for token in model.generate(num_words, random_seed=random_seed):\n",
    "        if token == '<s>':\n",
    "            continue\n",
    "        if token == '</s>':\n",
    "            break\n",
    "        content.append(token)\n",
    "    return detokenize(content)\n",
    "\n",
    "\n",
    "for i in range(20):\n",
    "    print(\"The random sentence number \",i,\" is: \")\n",
    "    print(generate_sentence(model, 200, random_seed=i))"
   ]
  },
  {
   "cell_type": "markdown",
   "metadata": {},
   "source": [
    "# Q3\n",
    "\n",
    "## Starting in Kaggle\n",
    "\n",
    "Soon you will be participating in the in-class Kaggle competition made for this class. In that one, you will be participating on your own. This is a warmup- the more e\u000b",
    "ort and research you put into this assignment the easier it will be to compete into the real Kaggle competition that you will need to do soon. We expect you to spend 10 times more e\u000b",
    "ort on this problem compared to the others.\n",
    "\n",
    "1. Let's start with our first Kaggle submission in a playground regression competition. Make an account to Kaggle and find https://www.kaggle.com/c/house-prices-advanced-regression-techniques/\n",
    "\n",
    "2. Follow the data preprocessing steps from https://www.kaggle.com/apapiu/house-prices-advanced-regression-techniques/regularized-linear-models. Then run a ridge regression using $\\alpha = 0.1$. Make a submission of this prediction, what is the RMSE you get? (Hint: remember to exponentiate np.expm1(ypred) your predictions).\n",
    "\n",
    "3. Compare a ridge regression and a lasso regression model. Optimize the alphas using cross validation. What is the best score you can get from a single ridge regression model and from a single lasso model?\n",
    "\n",
    "4. Plot the l0 norm (number of nonzeros) of the coefficients that lasso produces as you vary the strength of regularization parameter alpha.\n",
    "\n",
    "5. Add the outputs of your models as features and train a ridge regression on all the features plus the model outputs (This is called Ensembling and Stacking). Be careful not to overfit. What score can you get? (We will be discussing ensembling more, later in the class, but you can start playing with it now).\n",
    "\n",
    "6. Install XGBoost (Gradient Boosting) and train a gradient boosting regression. What score can you get just from a single XGB? (you will need to optimize over its parameters). We will discuss boosting and gradient boosting in more detail later. XGB is a great friend to all good Kagglers!\n",
    "\n",
    "7. Do your best to get the more accurate model. Try feature engineering and stacking many models. You are allowed to use any public tool in python. No non-python tools allowed.\n",
    "\n",
    "8. (Optional) Read the Kaggle forums, tutorials and Kernels in this competition. This is an excellent way to learn. Include in your report if you find something in the forums you like, or if you made your own post or code post, especially if other Kagglers liked or used it afterwards.\n",
    "\n",
    "9. Be sure to read and learn the rules of Kaggle! No sharing of code or data outside the Kaggle forums. Every student should have their own individual Kaggle account and teams can be formed in the Kaggle submissions with partners. This is more important for live competitions of course.\n",
    "\n",
    "10. As in the real in-class Kaggle competition (which will be next), you will be graded based on your public score (include that in your report) and also on the creativity of your solution. In your report (that you will submit as a pdf file), explain what worked and what did not work. Many creative things will not work, but you will get partial credit for developing them. We will invite teams with interesting solutions to present them in class."
   ]
  },
  {
   "cell_type": "code",
   "execution_count": 2,
   "metadata": {},
   "outputs": [
    {
     "name": "stdout",
     "output_type": "stream",
     "text": [
      "   Id  MSSubClass MSZoning  LotFrontage  LotArea Street Alley LotShape  \\\n",
      "0   1          60       RL         65.0     8450   Pave   NaN      Reg   \n",
      "1   2          20       RL         80.0     9600   Pave   NaN      Reg   \n",
      "2   3          60       RL         68.0    11250   Pave   NaN      IR1   \n",
      "3   4          70       RL         60.0     9550   Pave   NaN      IR1   \n",
      "4   5          60       RL         84.0    14260   Pave   NaN      IR1   \n",
      "\n",
      "  LandContour Utilities  ... PoolArea PoolQC Fence MiscFeature MiscVal MoSold  \\\n",
      "0         Lvl    AllPub  ...        0    NaN   NaN         NaN       0      2   \n",
      "1         Lvl    AllPub  ...        0    NaN   NaN         NaN       0      5   \n",
      "2         Lvl    AllPub  ...        0    NaN   NaN         NaN       0      9   \n",
      "3         Lvl    AllPub  ...        0    NaN   NaN         NaN       0      2   \n",
      "4         Lvl    AllPub  ...        0    NaN   NaN         NaN       0     12   \n",
      "\n",
      "  YrSold  SaleType  SaleCondition  SalePrice  \n",
      "0   2008        WD         Normal     208500  \n",
      "1   2007        WD         Normal     181500  \n",
      "2   2008        WD         Normal     223500  \n",
      "3   2006        WD        Abnorml     140000  \n",
      "4   2008        WD         Normal     250000  \n",
      "\n",
      "[5 rows x 81 columns]\n"
     ]
    }
   ],
   "source": [
    "#This block reads the necessary input files\n",
    "\n",
    "train = pd.read_csv(\"input/train.csv\")\n",
    "test = pd.read_csv(\"input/test.csv\")\n",
    "\n",
    "\n",
    "print(train.head())\n",
    "\n",
    "all_data = pd.concat((train.loc[:,'MSSubClass':'SaleCondition'], test.loc[:,'MSSubClass':'SaleCondition']))"
   ]
  },
  {
   "cell_type": "code",
   "execution_count": 3,
   "metadata": {},
   "outputs": [
    {
     "data": {
      "text/plain": [
       "array([[<matplotlib.axes._subplots.AxesSubplot object at 0x000001D50D54DA20>,\n",
       "        <matplotlib.axes._subplots.AxesSubplot object at 0x000001D50D512F60>]],\n",
       "      dtype=object)"
      ]
     },
     "execution_count": 3,
     "metadata": {},
     "output_type": "execute_result"
    },
    {
     "data": {
      "image/png": "[encoded data removed]",
      "text/plain": [
       "<Figure size 864x432 with 2 Axes>"
      ]
     },
     "metadata": {
      "needs_background": "light"
     },
     "output_type": "display_data"
    }
   ],
   "source": [
    "#Data pre-processing as given in link\n",
    "\n",
    "matplotlib.rcParams['figure.figsize'] = (12.0, 6.0)\n",
    "prices = pd.DataFrame({\"price\":train[\"SalePrice\"], \"log(price + 1)\":np.log1p(train[\"SalePrice\"])})\n",
    "prices.hist()"
   ]
  },
  {
   "cell_type": "code",
   "execution_count": 4,
   "metadata": {},
   "outputs": [],
   "source": [
    "#log transform the target:\n",
    "train[\"SalePrice\"] = np.log1p(train[\"SalePrice\"])\n",
    "\n",
    "#log transform skewed numeric features:\n",
    "numeric_feats = all_data.dtypes[all_data.dtypes != \"object\"].index\n",
    "\n",
    "skewed_feats = train[numeric_feats].apply(lambda x: skew(x.dropna())) #compute skewness\n",
    "skewed_feats = skewed_feats[skewed_feats > 0.75]\n",
    "skewed_feats = skewed_feats.index\n",
    "\n",
    "all_data[skewed_feats] = np.log1p(all_data[skewed_feats])\n",
    "\n",
    "all_data = pd.get_dummies(all_data)\n",
    "\n",
    "#filling NA's with the mean of the column:\n",
    "all_data = all_data.fillna(all_data.mean())\n",
    "\n",
    "#creating matrices for sklearn:\n",
    "X_train = all_data[:train.shape[0]]\n",
    "X_test = all_data[train.shape[0]:]\n",
    "y = train.SalePrice"
   ]
  },
  {
   "cell_type": "markdown",
   "metadata": {},
   "source": [
    "### Models"
   ]
  },
  {
   "cell_type": "code",
   "execution_count": 5,
   "metadata": {},
   "outputs": [],
   "source": [
    "from sklearn.linear_model import Ridge, RidgeCV, ElasticNet, LassoCV, LassoLarsCV\n",
    "from sklearn.model_selection import cross_val_score\n",
    "\n",
    "def rmse_cv(model):\n",
    "    rmse= np.sqrt(-cross_val_score(model, X_train, y, scoring=\"neg_mean_squared_error\", cv = 5))\n",
    "    return(rmse)"
   ]
  },
  {
   "cell_type": "markdown",
   "metadata": {},
   "source": [
    "#### Regressions"
   ]
  },
  {
   "cell_type": "code",
   "execution_count": 6,
   "metadata": {},
   "outputs": [
    {
     "name": "stdout",
     "output_type": "stream",
     "text": [
      "0.13777538277187837\n"
     ]
    },
    {
     "data": {
      "text/plain": [
       "Ridge()"
      ]
     },
     "execution_count": 6,
     "metadata": {},
     "output_type": "execute_result"
    }
   ],
   "source": [
    "model_ridge = Ridge()\n",
    "\n",
    "alpha = 0.1\n",
    "cv_ridge = rmse_cv(Ridge(alpha = alpha)).mean()\n",
    "\n",
    "print(cv_ridge)\n",
    "\n",
    "model_ridge.fit(X_train, y)"
   ]
  },
  {
   "cell_type": "markdown",
   "metadata": {},
   "source": [
    "#### This block is for making prediction using ridge regression"
   ]
  },
  {
   "cell_type": "code",
   "execution_count": 24,
   "metadata": {},
   "outputs": [],
   "source": [
    "ypred = model_ridge.predict(X_test)\n",
    "\n",
    "SalePrice = np.expm1(ypred)\n",
    "\n",
    "SalePrice_arr = [\"Id\"]\n",
    "for i in range(len(SalePrice)):\n",
    "    SalePrice_arr.append(SalePrice[i])\n",
    "    \n",
    "Id_list = [\"SalePrice\"]\n",
    "for i in range(len(test.Id)):\n",
    "    Id_list.append(test.Id[i])\n",
    "    \n",
    "f = open(\"Ridge.csv\", \"w\")\n",
    "f.write(str(Id_list))\n",
    "f.write(\"\\n\")\n",
    "f.write(str(SalePrice_arr))\n",
    "f.close()"
   ]
  },
  {
   "cell_type": "markdown",
   "metadata": {},
   "source": [
    "### Kaggle Score\n",
    "\n",
    "This provides a Kaggle score of 0.13043"
   ]
  },
  {
   "cell_type": "code",
   "execution_count": null,
   "metadata": {},
   "outputs": [],
   "source": [
    "model_lasso = LassoCV(alphas = [1, 0.1, 0.001, 0.0005]).fit(X_train, y)\n",
    "rmse_cv(model_lasso).mean()\n",
    "coef = pd.Series(model_lasso.coef_, index = X_train.columns)\n",
    "print(\"Lasso picked \" + str(sum(coef != 0)) + \" variables and eliminated the other \" +  str(sum(coef == 0)) + \" variables\")"
   ]
  }
 ],
 "metadata": {
  "kernelspec": {
   "display_name": "Python 3",
   "language": "python",
   "name": "python3"
  },
  "language_info": {
   "codemirror_mode": {
    "name": "ipython",
    "version": 3
   },
   "file_extension": ".py",
   "mimetype": "text/x-python",
   "name": "python",
   "nbconvert_exporter": "python",
   "pygments_lexer": "ipython3",
   "version": "3.7.3"
  }
 },
 "nbformat": 4,
 "nbformat_minor": 4
}
